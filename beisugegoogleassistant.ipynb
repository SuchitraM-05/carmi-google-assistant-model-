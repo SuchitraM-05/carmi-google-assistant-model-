{
  "nbformat": 4,
  "nbformat_minor": 0,
  "metadata": {
    "colab": {
      "provenance": [],
      "authorship_tag": "ABX9TyOyxZYBgxprWhMfalWieq35",
      "include_colab_link": true
    },
    "kernelspec": {
      "name": "python3",
      "display_name": "Python 3"
    },
    "language_info": {
      "name": "python"
    }
  },
  "cells": [
    {
      "cell_type": "markdown",
      "metadata": {
        "id": "view-in-github",
        "colab_type": "text"
      },
      "source": [
        "<a href=\"https://colab.research.google.com/github/SuchitraM-05/carmi-google-assistant-model-/blob/main/beisugegoogleassistant.ipynb\" target=\"_parent\"><img src=\"https://colab.research.google.com/assets/colab-badge.svg\" alt=\"Open In Colab\"/></a>"
      ]
    },
    {
      "cell_type": "markdown",
      "source": [
        "1. Give input text, one quesiton\n",
        "2. Based on the question, decide what to do ?\n",
        "*   On Device Operation\n",
        "*   Who are you kind of messages ?\n",
        "*  Asking the assistant some question ?\n",
        "3. Give proper answer for each one of these responses\n",
        "4. If the question is realted to search internet, get the answer from Google Gemeni model\n",
        "5. If you got an answer, then please convert it to Text to Speech (gTTS)"
      ],
      "metadata": {
        "id": "-4nFf4W45bC0"
      }
    },
    {
      "cell_type": "code",
      "source": [
        "pip install -q -U google-generativeai"
      ],
      "metadata": {
        "id": "nWHnr1AfAMBr"
      },
      "execution_count": null,
      "outputs": []
    },
    {
      "cell_type": "code",
      "source": [
        "import pathlib\n",
        "import textwrap\n",
        "from gtts import gTTS\n",
        "\n",
        "import google.generativeai as genai\n",
        "\n",
        "from IPython.display import display\n",
        "from IPython.display import Markdown\n",
        "\n",
        "\n",
        "def to_markdown(text):\n",
        "  text = text.replace('•', '  *')\n",
        "  return Markdown(textwrap.indent(text, '> ', predicate=lambda _: True))\n"
      ],
      "metadata": {
        "id": "wHH8z4JtBJHj"
      },
      "execution_count": null,
      "outputs": []
    },
    {
      "cell_type": "code",
      "source": [
        "GOOGLE_API_KEY=userdata.get('GOOGLE_API_KEY')\n",
        "\n",
        "genai.configure(api_key=GOOGLE_API_KEY)"
      ],
      "metadata": {
        "id": "D9ZhvrFd__RC"
      },
      "execution_count": null,
      "outputs": []
    },
    {
      "cell_type": "code",
      "source": [
        "from google.colab import userdata"
      ],
      "metadata": {
        "id": "_YQlCVnv_1GL"
      },
      "execution_count": null,
      "outputs": []
    },
    {
      "cell_type": "code",
      "source": [
        "model = genai.GenerativeModel('gemini-pro')"
      ],
      "metadata": {
        "id": "ObVa0RPRCDf7"
      },
      "execution_count": null,
      "outputs": []
    },
    {
      "cell_type": "code",
      "source": [
        "pip install gTTS"
      ],
      "metadata": {
        "id": "DQcDytSQI5zb"
      },
      "execution_count": null,
      "outputs": []
    },
    {
      "cell_type": "code",
      "execution_count": null,
      "metadata": {
        "id": "HK4-BX804EuL"
      },
      "outputs": [],
      "source": [
        "#step 1\n",
        "def ask_ques(name):\n",
        "  ques='Hey '+name+' what do you want?'\n",
        "  ques=input(ques)\n",
        "  return ques"
      ]
    },
    {
      "cell_type": "code",
      "source": [
        "def classify_questions(ques):\n",
        "  goahead_with_web_search=False\n",
        "  device_lst=['alarm','remainder','message','call']\n",
        "  personal_lst=['who are you?','who created you?']\n",
        "\n",
        "  device_ques = False\n",
        "  for i in device_lst:\n",
        "    if i in ques:\n",
        "      device_ques=True\n",
        "  if device_ques:\n",
        "    print(\"This ques is related to device things,which is not supported in our google assistan!t\")\n",
        "\n",
        "  personal_ques= False\n",
        "  for i in personal_lst:\n",
        "    if i in ques.lower():\n",
        "      personal_ques= True\n",
        "\n",
        "  if personal_ques:\n",
        "    print(\"Hey I am a assistant created by you\")\n",
        "\n",
        "  if device_ques:\n",
        "    goahead_with_web_search=False\n",
        "  elif personal_ques:\n",
        "    goahead_with_web_search=False\n",
        "  else:\n",
        "    goahead_with_web_search=True\n",
        "\n",
        "  return goahead_with_web_search\n",
        "\n",
        "\n",
        "\n"
      ],
      "metadata": {
        "id": "VihIRnz36VPC"
      },
      "execution_count": null,
      "outputs": []
    },
    {
      "cell_type": "code",
      "source": [
        "classify_questions(\"who are you?\")"
      ],
      "metadata": {
        "id": "wvSqx0ft72YS"
      },
      "execution_count": null,
      "outputs": []
    },
    {
      "cell_type": "code",
      "source": [
        "def ask_gemini(ques):\n",
        "  modified_prompt='Hey give me answer to this question ' +ques+ ' in maximum of 40 words'\n",
        "  response = model.generate_content(modified_prompt)\n",
        "  to_markdown(response.text)\n",
        "  return response.text"
      ],
      "metadata": {
        "id": "2PUFMRtREbCP"
      },
      "execution_count": null,
      "outputs": []
    },
    {
      "cell_type": "code",
      "source": [
        "def speak(answer):\n",
        "  tts = gTTS(answer)\n",
        "  tts.save('audio.mp3')\n",
        "  from IPython.display import Audio, display\n",
        "  display(Audio('audio.mp3', autoplay=True))"
      ],
      "metadata": {
        "id": "Hjk7LTwIJQDs"
      },
      "execution_count": null,
      "outputs": []
    },
    {
      "cell_type": "code",
      "source": [
        "have_any_other_ques='y'\n",
        "name=''\n",
        "while have_any_other_ques=='y':\n",
        "\n",
        "  if name=='':\n",
        "    name=input(\"Hey what is your name?\")\n",
        "\n",
        "  q=ask_ques(name)\n",
        "  go_ahead=classify_questions(q)\n",
        "  answer=''\n",
        "  if go_ahead==True:\n",
        "    answer= ask_gemini(q)\n",
        "  speak(answer)\n",
        "  print(answer)\n",
        "  have_any_other_ques=input(\"Do you have any other questions?\")"
      ],
      "metadata": {
        "id": "d2nkbaulEy_d"
      },
      "execution_count": null,
      "outputs": []
    }
  ]
}